{
  "nbformat": 4,
  "nbformat_minor": 0,
  "metadata": {
    "colab": {
      "provenance": [],
      "mount_file_id": "1S-Sz8CAJ6kpeFzmqt1a3_acv7u8DzBzK",
      "authorship_tag": "ABX9TyM1/I/SjO5VKbvPnuqJDhiy",
      "include_colab_link": true
    },
    "kernelspec": {
      "name": "python3",
      "display_name": "Python 3"
    },
    "language_info": {
      "name": "python"
    }
  },
  "cells": [
    {
      "cell_type": "markdown",
      "metadata": {
        "id": "view-in-github",
        "colab_type": "text"
      },
      "source": [
        "<a href=\"https://colab.research.google.com/github/niroj547/AI/blob/main/Worksheet3.ipynb\" target=\"_parent\"><img src=\"https://colab.research.google.com/assets/colab-badge.svg\" alt=\"Open In Colab\"/></a>"
      ]
    },
    {
      "cell_type": "markdown",
      "source": [
        "#Problem 1 - Data Read, Write and Inspect:\n",
        "Complete all following Task:\n",
        "• Dataset for the Task: \"bank.csv\"\n",
        "1. Load the provided dataset and import in pandas DataFrame.\n",
        "2. Check info of the DataFrame and identify following:\n",
        "(a) columns with dtypes=object\n",
        "(b) unique values of those columns.\n",
        "(c) check for the total number of null values in each column.\n",
        "3. Drop all the columns with dtypes object and store in new DataFrame, also write the DataFrame in\n",
        "”.csv” with name ”banknumericdata.csv”\n",
        "4. Read ”banknumericdata.csv” and Find the summary statistics."
      ],
      "metadata": {
        "id": "U1LEU_yxO53q"
      }
    },
    {
      "cell_type": "code",
      "source": [
        "import pandas as pd\n",
        "#Task1\n",
        "df = pd.read_csv(\"/content/drive/MyDrive/Database/bank .csv\")\n",
        "\n",
        "#Task2 (a)\n",
        "object_columns = df.select_dtypes(include='object').columns\n",
        "print(\"Columns with dtype=object:\", object_columns)\n",
        "\n",
        "#(b)\n",
        "unique_values = {col: df[col].unique() for col in object_columns}\n",
        "for col, values in unique_values.items():\n",
        "    print(f\"Column: {col}, Unique Values: {values}\")\n",
        "\n",
        "#(c)\n",
        "null_values = df.isnull().sum()\n",
        "print(\"Null values in each column:\\n\", null_values)\n",
        "\n",
        "#Task3(a)\n",
        "df_numeric = df.drop(columns=object_columns)\n",
        "\n",
        "#(b)\n",
        "df_numeric.to_csv(\"banknumericdata.csv\", index=False)\n",
        "\n",
        "#Task4\n",
        "df_numeric_loaded = pd.read_csv(\"banknumericdata.csv\")\n",
        "\n",
        "summary_stats = df_numeric_loaded.describe()\n",
        "print(\"Summary Statistics:\\n\", summary_stats)\n",
        "\n",
        "\n",
        "\n",
        "\n",
        "\n"
      ],
      "metadata": {
        "id": "UmFqxwxLPBpk",
        "colab": {
          "base_uri": "https://localhost:8080/"
        },
        "outputId": "1d819338-4732-45e9-84eb-9029386180d4"
      },
      "execution_count": null,
      "outputs": [
        {
          "output_type": "stream",
          "name": "stdout",
          "text": [
            "Columns with dtype=object: Index(['job', 'marital', 'education', 'default', 'housing', 'loan', 'contact',\n",
            "       'month', 'poutcome', 'y'],\n",
            "      dtype='object')\n",
            "Column: job, Unique Values: ['management' 'technician' 'entrepreneur' 'blue-collar' 'unknown'\n",
            " 'retired' 'admin.' 'services' 'self-employed' 'unemployed' 'housemaid'\n",
            " 'student']\n",
            "Column: marital, Unique Values: ['married' 'single' 'divorced']\n",
            "Column: education, Unique Values: ['tertiary' 'secondary' 'unknown' 'primary']\n",
            "Column: default, Unique Values: ['no' 'yes']\n",
            "Column: housing, Unique Values: ['yes' 'no']\n",
            "Column: loan, Unique Values: ['no' 'yes']\n",
            "Column: contact, Unique Values: ['unknown' 'cellular' 'telephone']\n",
            "Column: month, Unique Values: ['may' 'jun' 'jul' 'aug' 'oct' 'nov' 'dec' 'jan' 'feb' 'mar' 'apr' 'sep']\n",
            "Column: poutcome, Unique Values: ['unknown' 'failure' 'other' 'success']\n",
            "Column: y, Unique Values: ['no' 'yes']\n",
            "Null values in each column:\n",
            " age          0\n",
            "job          0\n",
            "marital      0\n",
            "education    0\n",
            "default      0\n",
            "balance      0\n",
            "housing      0\n",
            "loan         0\n",
            "contact      0\n",
            "day          0\n",
            "month        0\n",
            "duration     0\n",
            "campaign     0\n",
            "pdays        0\n",
            "previous     0\n",
            "poutcome     0\n",
            "y            0\n",
            "dtype: int64\n",
            "Summary Statistics:\n",
            "                 age        balance           day      duration      campaign  \\\n",
            "count  45211.000000   45211.000000  45211.000000  45211.000000  45211.000000   \n",
            "mean      40.936210    1362.272058     15.806419    258.163080      2.763841   \n",
            "std       10.618762    3044.765829      8.322476    257.527812      3.098021   \n",
            "min       18.000000   -8019.000000      1.000000      0.000000      1.000000   \n",
            "25%       33.000000      72.000000      8.000000    103.000000      1.000000   \n",
            "50%       39.000000     448.000000     16.000000    180.000000      2.000000   \n",
            "75%       48.000000    1428.000000     21.000000    319.000000      3.000000   \n",
            "max       95.000000  102127.000000     31.000000   4918.000000     63.000000   \n",
            "\n",
            "              pdays      previous  \n",
            "count  45211.000000  45211.000000  \n",
            "mean      40.197828      0.580323  \n",
            "std      100.128746      2.303441  \n",
            "min       -1.000000      0.000000  \n",
            "25%       -1.000000      0.000000  \n",
            "50%       -1.000000      0.000000  \n",
            "75%       -1.000000      0.000000  \n",
            "max      871.000000    275.000000  \n"
          ]
        }
      ]
    },
    {
      "cell_type": "markdown",
      "source": [
        "#Problem 2 - Data Imputations:\n",
        "Complete all the following Task:\n",
        "• Dataset for the Task: \"medical_student.csv\"\n",
        "1. Load the provided dataset and import in pandas DataFrame.\n",
        "2. Check info of the DataFrame and identify column with missing (null) values.\n",
        "3. For the column with missing values fill the values using various techniques we discussed above. Try\n",
        "to explain why did you select the particular methods for particular column.\n",
        "4. Check for any duplicate values present in Dataset and do necessary to manage the duplicate items.\n",
        "{Hint: dataset.duplicated.sum()}"
      ],
      "metadata": {
        "id": "KcL90V3p5ZXK"
      }
    },
    {
      "cell_type": "code",
      "source": [
        "#Task1\n",
        "df = pd.read_csv(\"/content/drive/MyDrive/Database/medical_students_dataset.csv\")\n",
        "\n",
        "#Task2\n",
        "print(df.info())\n",
        "\n",
        "missing_values = df.isnull().sum()\n",
        "print(\"Columns with missing values:\\n\", missing_values)\n",
        "\n",
        "#Task3\n",
        "for col in df.select_dtypes(include=['int64', 'float64']).columns:\n",
        "    if df[col].isnull().sum() > 0:\n",
        "        df[col].fillna(df[col].mean(), inplace=True)\n",
        "        print(f\"Filled missing values in column '{col}' with mean.\")\n",
        "\n",
        "for col in df.select_dtypes(include=['object']).columns:\n",
        "    if df[col].isnull().sum() > 0:\n",
        "        df[col].fillna(df[col].mode()[0], inplace=True)\n",
        "        print(f\"Filled missing values in column '{col}' with mode.\")\n",
        "\n",
        "#Task4(a)\n",
        "duplicates = df.duplicated().sum()\n",
        "print(f\"Number of duplicate rows: {duplicates}\")\n",
        "\n",
        "#(b)\n",
        "df = df.drop_duplicates()\n",
        "print(f\"Dataset after removing duplicates has {df.shape[0]} rows and {df.shape[1]} columns.\")\n",
        "\n",
        "\n",
        "\n"
      ],
      "metadata": {
        "colab": {
          "base_uri": "https://localhost:8080/"
        },
        "id": "f-TehBkd5eEh",
        "outputId": "df7af853-1432-4dd3-8dbb-eab050b5c212"
      },
      "execution_count": null,
      "outputs": [
        {
          "output_type": "stream",
          "name": "stdout",
          "text": [
            "<class 'pandas.core.frame.DataFrame'>\n",
            "RangeIndex: 200000 entries, 0 to 199999\n",
            "Data columns (total 13 columns):\n",
            " #   Column          Non-Null Count   Dtype  \n",
            "---  ------          --------------   -----  \n",
            " 0   Student ID      180000 non-null  float64\n",
            " 1   Age             180000 non-null  float64\n",
            " 2   Gender          180000 non-null  object \n",
            " 3   Height          180000 non-null  float64\n",
            " 4   Weight          180000 non-null  float64\n",
            " 5   Blood Type      180000 non-null  object \n",
            " 6   BMI             180000 non-null  float64\n",
            " 7   Temperature     180000 non-null  float64\n",
            " 8   Heart Rate      180000 non-null  float64\n",
            " 9   Blood Pressure  180000 non-null  float64\n",
            " 10  Cholesterol     180000 non-null  float64\n",
            " 11  Diabetes        180000 non-null  object \n",
            " 12  Smoking         180000 non-null  object \n",
            "dtypes: float64(9), object(4)\n",
            "memory usage: 19.8+ MB\n",
            "None\n",
            "Columns with missing values:\n",
            " Student ID        20000\n",
            "Age               20000\n",
            "Gender            20000\n",
            "Height            20000\n",
            "Weight            20000\n",
            "Blood Type        20000\n",
            "BMI               20000\n",
            "Temperature       20000\n",
            "Heart Rate        20000\n",
            "Blood Pressure    20000\n",
            "Cholesterol       20000\n",
            "Diabetes          20000\n",
            "Smoking           20000\n",
            "dtype: int64\n",
            "Filled missing values in column 'Student ID' with mean.\n",
            "Filled missing values in column 'Age' with mean.\n",
            "Filled missing values in column 'Height' with mean.\n",
            "Filled missing values in column 'Weight' with mean.\n",
            "Filled missing values in column 'BMI' with mean.\n",
            "Filled missing values in column 'Temperature' with mean.\n",
            "Filled missing values in column 'Heart Rate' with mean.\n",
            "Filled missing values in column 'Blood Pressure' with mean.\n",
            "Filled missing values in column 'Cholesterol' with mean.\n",
            "Filled missing values in column 'Gender' with mode.\n",
            "Filled missing values in column 'Blood Type' with mode.\n",
            "Filled missing values in column 'Diabetes' with mode.\n"
          ]
        },
        {
          "output_type": "stream",
          "name": "stderr",
          "text": [
            "<ipython-input-2-321ea5cd975c>:13: FutureWarning: A value is trying to be set on a copy of a DataFrame or Series through chained assignment using an inplace method.\n",
            "The behavior will change in pandas 3.0. This inplace method will never work because the intermediate object on which we are setting values always behaves as a copy.\n",
            "\n",
            "For example, when doing 'df[col].method(value, inplace=True)', try using 'df.method({col: value}, inplace=True)' or df[col] = df[col].method(value) instead, to perform the operation inplace on the original object.\n",
            "\n",
            "\n",
            "  df[col].fillna(df[col].mean(), inplace=True)\n",
            "<ipython-input-2-321ea5cd975c>:18: FutureWarning: A value is trying to be set on a copy of a DataFrame or Series through chained assignment using an inplace method.\n",
            "The behavior will change in pandas 3.0. This inplace method will never work because the intermediate object on which we are setting values always behaves as a copy.\n",
            "\n",
            "For example, when doing 'df[col].method(value, inplace=True)', try using 'df.method({col: value}, inplace=True)' or df[col] = df[col].method(value) instead, to perform the operation inplace on the original object.\n",
            "\n",
            "\n",
            "  df[col].fillna(df[col].mode()[0], inplace=True)\n"
          ]
        },
        {
          "output_type": "stream",
          "name": "stdout",
          "text": [
            "Filled missing values in column 'Smoking' with mode.\n",
            "Number of duplicate rows: 12572\n",
            "Dataset after removing duplicates has 187428 rows and 13 columns.\n"
          ]
        }
      ]
    },
    {
      "cell_type": "markdown",
      "source": [
        "#Problem - 2:\n",
        "How many null values are contained in the ’Age’ column in your subsetted DataFrame? Once you’ve found\n",
        "this out, drop them from your DataFrame."
      ],
      "metadata": {
        "id": "9krQN9NF6Jqn"
      }
    },
    {
      "cell_type": "code",
      "source": [
        "null_age_count = df['Age'].isnull().sum()\n",
        "print(f\"Number of null values in the 'Age' column: {null_age_count}\")\n",
        "df = df.dropna(subset=['Age'])\n",
        "print(f\"Dataset after dropping rows with null 'Age' values has {df.shape[0]} rows.\")\n"
      ],
      "metadata": {
        "colab": {
          "base_uri": "https://localhost:8080/"
        },
        "id": "L0blHdlR6SiB",
        "outputId": "abfb1665-01ca-4a03-8ae8-1f407fe14649"
      },
      "execution_count": null,
      "outputs": [
        {
          "output_type": "stream",
          "name": "stdout",
          "text": [
            "Number of null values in the 'Age' column: 0\n",
            "Dataset after dropping rows with null 'Age' values has 187428 rows.\n"
          ]
        }
      ]
    },
    {
      "cell_type": "markdown",
      "source": [
        "#Problem - 3:\n",
        "\n",
        "The ’Embarked’ column in the Titanic dataset contains categorical data representing the ports of embarka-\n",
        "tion:\n",
        "\n",
        "• ’C’ for Cherbourg\n",
        "• ’Q’ for Queenstown\n",
        "• ’S’ for Southampton"
      ],
      "metadata": {
        "id": "dtb7s5ik6flm"
      }
    },
    {
      "cell_type": "code",
      "source": [
        "# 1\n",
        "titanic_df = pd.read_csv(\"/content/drive/MyDrive/Database/Titanic-Dataset.csv\")\n",
        "\n",
        "# 2\n",
        "embarked_dummies = pd.get_dummies(titanic_df['Embarked'], prefix='Embarked')\n",
        "\n",
        "# 3\n",
        "titanic_df = pd.concat([titanic_df, embarked_dummies], axis=1)\n",
        "\n",
        "# 4\n",
        "titanic_df.drop(columns=['Embarked'], inplace=True)\n",
        "\n",
        "# 5\n",
        "print(titanic_df.head())\n",
        "\n",
        "\n"
      ],
      "metadata": {
        "id": "cHz7sj7M6kv3",
        "colab": {
          "base_uri": "https://localhost:8080/"
        },
        "outputId": "601d2898-93f4-4bf8-ba80-c87e9140bf76"
      },
      "execution_count": 5,
      "outputs": [
        {
          "output_type": "stream",
          "name": "stdout",
          "text": [
            "   PassengerId  Survived  Pclass  \\\n",
            "0            1         0       3   \n",
            "1            2         1       1   \n",
            "2            3         1       3   \n",
            "3            4         1       1   \n",
            "4            5         0       3   \n",
            "\n",
            "                                                Name     Sex   Age  SibSp  \\\n",
            "0                            Braund, Mr. Owen Harris    male  22.0      1   \n",
            "1  Cumings, Mrs. John Bradley (Florence Briggs Th...  female  38.0      1   \n",
            "2                             Heikkinen, Miss. Laina  female  26.0      0   \n",
            "3       Futrelle, Mrs. Jacques Heath (Lily May Peel)  female  35.0      1   \n",
            "4                           Allen, Mr. William Henry    male  35.0      0   \n",
            "\n",
            "   Parch            Ticket     Fare Cabin  Embarked_C  Embarked_Q  Embarked_S  \n",
            "0      0         A/5 21171   7.2500   NaN       False       False        True  \n",
            "1      0          PC 17599  71.2833   C85        True       False       False  \n",
            "2      0  STON/O2. 3101282   7.9250   NaN       False       False        True  \n",
            "3      0            113803  53.1000  C123       False       False        True  \n",
            "4      0            373450   8.0500   NaN       False       False        True  \n"
          ]
        }
      ]
    },
    {
      "cell_type": "markdown",
      "source": [],
      "metadata": {
        "id": "SMnnF-3492Es"
      }
    },
    {
      "cell_type": "markdown",
      "source": [
        "#Problem - 4:\n",
        "\n",
        "Compare the mean survival rates (’Survived’) for the different groups in the ’Sex’ column. Draw a visual-\n",
        "ization to show how the survival distributions vary by gender."
      ],
      "metadata": {
        "id": "qqJlXKPY-RRt"
      }
    },
    {
      "cell_type": "code",
      "source": [
        "import matplotlib.pyplot as plt\n",
        "import seaborn as sns\n",
        "\n",
        "# 1\n",
        "titanic_df = pd.read_csv(\"/content/drive/MyDrive/Database/Titanic-Dataset.csv\")\n",
        "\n",
        "# 2\n",
        "mean_survival_by_gender = titanic_df.groupby('Sex')['Survived'].mean()\n",
        "print(\"Mean survival rates by gender:\\n\", mean_survival_by_gender)\n",
        "\n",
        "# 3\n",
        "sns.barplot(x=mean_survival_by_gender.index, y=mean_survival_by_gender.values, palette='coolwarm')\n",
        "plt.title(\"Mean Survival Rates by Gender\")\n",
        "plt.xlabel(\"Gender\")\n",
        "plt.ylabel(\"Mean Survival Rate\")\n",
        "plt.show()\n",
        "\n",
        "# 4\n",
        "sns.countplot(data=titanic_df, x='Sex', hue='Survived', palette='viridis')\n",
        "plt.title(\"Survival Distribution by Gender\")\n",
        "plt.xlabel(\"Gender\")\n",
        "plt.ylabel(\"Count\")\n",
        "plt.legend(title=\"Survived\", labels=[\"No\", \"Yes\"])\n",
        "plt.show()\n"
      ],
      "metadata": {
        "colab": {
          "base_uri": "https://localhost:8080/",
          "height": 1000
        },
        "id": "YH9eT0uq-i1W",
        "outputId": "275188a6-85ed-4cb6-c640-76b950d14ba9"
      },
      "execution_count": 6,
      "outputs": [
        {
          "output_type": "stream",
          "name": "stdout",
          "text": [
            "Mean survival rates by gender:\n",
            " Sex\n",
            "female    0.742038\n",
            "male      0.188908\n",
            "Name: Survived, dtype: float64\n"
          ]
        },
        {
          "output_type": "stream",
          "name": "stderr",
          "text": [
            "<ipython-input-6-3a0c29d77451>:12: FutureWarning: \n",
            "\n",
            "Passing `palette` without assigning `hue` is deprecated and will be removed in v0.14.0. Assign the `x` variable to `hue` and set `legend=False` for the same effect.\n",
            "\n",
            "  sns.barplot(x=mean_survival_by_gender.index, y=mean_survival_by_gender.values, palette='coolwarm')\n"
          ]
        },
        {
          "output_type": "display_data",
          "data": {
            "text/plain": [
              "<Figure size 640x480 with 1 Axes>"
            ],
            "image/png": "[encoded data removed]"
          },
          "metadata": {}
        },
        {
          "output_type": "display_data",
          "data": {
            "text/plain": [
              "<Figure size 640x480 with 1 Axes>"
            ],
            "image/png": "[encoded data removed]"
          },
          "metadata": {}
        }
      ]
    },
    {
      "cell_type": "markdown",
      "source": [
        "#Problem - 5:\n",
        "\n",
        "Draw a visualization that breaks your visualization from Exercise 3 down by the port of embarkation (’Em-\n",
        "barked’). In this instance, compare the ports ’C’ (Cherbourg), ’Q’ (Queenstown), and ’S’ (Southampton)."
      ],
      "metadata": {
        "id": "hFlb65mc-zfN"
      }
    },
    {
      "cell_type": "code",
      "source": [
        "# 1\n",
        "titanic_df = pd.read_csv(\"/content/drive/MyDrive/Database/Titanic-Dataset.csv\")\n",
        "\n",
        "# 2.\n",
        "titanic_df['Embarked'].fillna('Unknown', inplace=True)\n",
        "\n",
        "# 3.\n",
        "sns.catplot(\n",
        "    data=titanic_df,\n",
        "    kind=\"bar\",\n",
        "    x=\"Sex\",\n",
        "    y=\"Survived\",\n",
        "    hue=\"Embarked\",\n",
        "    palette=\"coolwarm\",\n",
        "    ci=None,\n",
        "    height=5,\n",
        "    aspect=1.5\n",
        ")\n",
        "\n",
        "plt.title(\"Survival Rates by Gender and Embarkation Port\")\n",
        "plt.xlabel(\"Gender\")\n",
        "plt.ylabel(\"Mean Survival Rate\")\n",
        "plt.show()\n"
      ],
      "metadata": {
        "colab": {
          "base_uri": "https://localhost:8080/",
          "height": 757
        },
        "id": "WZC7oDHx-4UU",
        "outputId": "18a69d14-38d6-4fd6-d42f-e46cbf887e8a"
      },
      "execution_count": 7,
      "outputs": [
        {
          "output_type": "stream",
          "name": "stderr",
          "text": [
            "<ipython-input-7-6adcd8dbb34d>:5: FutureWarning: A value is trying to be set on a copy of a DataFrame or Series through chained assignment using an inplace method.\n",
            "The behavior will change in pandas 3.0. This inplace method will never work because the intermediate object on which we are setting values always behaves as a copy.\n",
            "\n",
            "For example, when doing 'df[col].method(value, inplace=True)', try using 'df.method({col: value}, inplace=True)' or df[col] = df[col].method(value) instead, to perform the operation inplace on the original object.\n",
            "\n",
            "\n",
            "  titanic_df['Embarked'].fillna('Unknown', inplace=True)\n",
            "<ipython-input-7-6adcd8dbb34d>:8: FutureWarning: \n",
            "\n",
            "The `ci` parameter is deprecated. Use `errorbar=None` for the same effect.\n",
            "\n",
            "  sns.catplot(\n"
          ]
        },
        {
          "output_type": "display_data",
          "data": {
            "text/plain": [
              "<Figure size 864.375x500 with 1 Axes>"
            ],
            "image/png": "[encoded data removed]"
          },
          "metadata": {}
        }
      ]
    }
  ]
}